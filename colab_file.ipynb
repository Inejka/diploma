{
 "cells": [
  {
   "cell_type": "markdown",
   "source": [
    "Colab link: https://colab.research.google.com/drive/124fAI-rIGVkOHEi51ASkrbXnsenqWdaz?usp=sharing"
   ],
   "metadata": {
    "collapsed": false
   }
  },
  {
   "cell_type": "code",
   "execution_count": null,
   "outputs": [],
   "source": [
    "%pip install gradio\n",
    "!rm /content/sample_data -rf\n",
    "from google.colab import drive\n",
    "drive.mount('/content/drive')\n",
    "import os\n",
    "if not os.path.exists(\"/content/drive/MyDrive/image_scorer\"):\n",
    "    os.mkdir(\"/content/drive/MyDrive/image_scorer\")\n",
    "if not os.path.exists(\"/content/drive/MyDrive/image_scorer/flagged\"):\n",
    "  os.mkdir(\"/content/drive/MyDrive/image_scorer/flagged\")\n",
    "!ln -s /content/drive/MyDrive/image_scorer/flagged /content/flagged"
   ],
   "metadata": {
    "collapsed": false
   }
  },
  {
   "cell_type": "code",
   "execution_count": null,
   "outputs": [],
   "source": [
    "!git clone https://github.com/Inejka/diploma.git\n",
    "!mv /content/diploma/* .\n",
    "\n",
    "from gradio_app import *\n",
    "app.queue(concurrency_count=1, max_size=60)\n",
    "app.launch(max_threads=1, inline=False, share = True)\n",
    "\n",
    "#To see log\n",
    "while True:\n",
    "  pass"
   ],
   "metadata": {
    "collapsed": false
   }
  }
 ],
 "metadata": {
  "kernelspec": {
   "display_name": "Python 3",
   "language": "python",
   "name": "python3"
  },
  "language_info": {
   "codemirror_mode": {
    "name": "ipython",
    "version": 2
   },
   "file_extension": ".py",
   "mimetype": "text/x-python",
   "name": "python",
   "nbconvert_exporter": "python",
   "pygments_lexer": "ipython2",
   "version": "2.7.6"
  }
 },
 "nbformat": 4,
 "nbformat_minor": 0
}
