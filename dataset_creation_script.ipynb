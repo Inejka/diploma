{
 "cells": [
  {
   "cell_type": "code",
   "execution_count": null,
   "metadata": {
    "collapsed": true
   },
   "outputs": [],
   "source": [
    "PATH_TO_CSV = r\"I:\\AVA_dataset\\meta_info_AVADataset.csv\"\n",
    "PATH_TO_IMAGES = r\"I:\\AVA_dataset\\images\\images\"\n",
    "THRESHOLD = 1000\n",
    "TO_SAVE = r\"dataset\""
   ]
  },
  {
   "cell_type": "code",
   "execution_count": null,
   "outputs": [],
   "source": [
    "import pandas\n",
    "\n",
    "all_data = pandas.read_csv(PATH_TO_CSV)\n",
    "reduced_data = {'image_path': [], 'rating': []}\n",
    "# random_data = all_data.sample(n=THRESHOLD)\n",
    "random_data = all_data.sample(frac=1)"
   ],
   "metadata": {
    "collapsed": false
   }
  },
  {
   "cell_type": "code",
   "execution_count": null,
   "outputs": [],
   "source": [
    "random_data.reset_index()\n",
    "max_items_per_class = 110\n",
    "max_lines = {\"1\": 0, \"2\": 0, \"3\": 0, \"4\": 0, \"5\": 0, \"6\": 0, \"7\": 0, \"8\": 0, \"9\": 0, \"10\": 0}\n",
    "reduced_data = {'image_path': [], 'rating': []}\n",
    "for index, row in random_data.iterrows():\n",
    "    if max_lines[str(round(row.at[\"MOS\"]))] <= max_items_per_class:\n",
    "        max_lines[str(round(row.at[\"MOS\"]))] += 1\n",
    "        reduced_data[\"rating\"].append(round(row.at[\"MOS\"]))\n",
    "        reduced_data[\"image_path\"].append(row.at[\"img_name\"])"
   ],
   "metadata": {
    "collapsed": false
   }
  },
  {
   "cell_type": "code",
   "execution_count": null,
   "outputs": [],
   "source": [
    "imgs, scors = [], []\n",
    "import os\n",
    "\n",
    "for i in range(len(reduced_data[\"rating\"])):\n",
    "    if os.path.exists(os.path.join(PATH_TO_IMAGES, reduced_data['image_path'][i])):\n",
    "        imgs.append(reduced_data['image_path'][i])\n",
    "        scors.append(reduced_data['rating'][i])\n",
    "    else:\n",
    "        print(f\"{reduced_data['image_path'][i]} does not exists, skipping\")\n",
    "reduced_data = {'image_path': imgs, 'rating': scors}"
   ],
   "metadata": {
    "collapsed": false
   }
  },
  {
   "cell_type": "code",
   "execution_count": null,
   "outputs": [],
   "source": [
    "import shutil\n",
    "import os\n",
    "\n",
    "for i in range(len(imgs)):\n",
    "    print(f\"Image: {reduced_data['image_path'][i]}, score: {reduced_data['rating'][i]}\")\n",
    "    shutil.copyfile(os.path.join(PATH_TO_IMAGES, reduced_data['image_path'][i]),\n",
    "                    os.path.join(TO_SAVE, reduced_data['image_path'][i]))"
   ],
   "metadata": {
    "collapsed": false
   }
  },
  {
   "cell_type": "code",
   "execution_count": null,
   "outputs": [],
   "source": [
    "import os\n",
    "\n",
    "to_save = pandas.DataFrame(data=reduced_data)\n",
    "to_save.to_csv(os.path.join(TO_SAVE, \"data.csv\"))"
   ],
   "metadata": {
    "collapsed": false
   }
  },
  {
   "cell_type": "code",
   "execution_count": null,
   "outputs": [],
   "source": [
    "reduced_data"
   ],
   "metadata": {
    "collapsed": false
   }
  }
 ],
 "metadata": {
  "kernelspec": {
   "display_name": "Python 3",
   "language": "python",
   "name": "python3"
  },
  "language_info": {
   "codemirror_mode": {
    "name": "ipython",
    "version": 2
   },
   "file_extension": ".py",
   "mimetype": "text/x-python",
   "name": "python",
   "nbconvert_exporter": "python",
   "pygments_lexer": "ipython2",
   "version": "2.7.6"
  }
 },
 "nbformat": 4,
 "nbformat_minor": 0
}
